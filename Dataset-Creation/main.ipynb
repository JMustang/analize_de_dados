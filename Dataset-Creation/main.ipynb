{
 "cells": [
  {
   "cell_type": "markdown",
   "metadata": {},
   "source": [
    "## Task #1: Get info box (store on python dictionary)\n",
    "\n",
    "#### Scraping data from internet"
   ]
  },
  {
   "cell_type": "code",
   "execution_count": 1,
   "metadata": {},
   "outputs": [],
   "source": [
    "# import necessary libraries\n",
    "from bs4 import BeautifulSoup as bs\n",
    "import requests"
   ]
  },
  {
   "cell_type": "code",
   "execution_count": null,
   "metadata": {},
   "outputs": [],
   "source": [
    "# load the webpage\n",
    "r = requests.get('https://en.wikipedia.org/wiki/Toy_Story_3')\n",
    "\n",
    "# Convert to a beautiful soup object\n",
    "soup = bs(r.content)\n",
    "\n",
    "# Print out the HTML\n",
    "contents = soup.prettify()\n",
    "# print(contents)"
   ]
  },
  {
   "cell_type": "code",
   "execution_count": null,
   "metadata": {},
   "outputs": [],
   "source": [
    "info_box = soup.find(class_='infobox vevent')\n",
    "info_rows = info_box.find_all('tr')\n",
    "for row in info_rows:\n",
    "    print(row.prettify())"
   ]
  },
  {
   "cell_type": "code",
   "execution_count": 7,
   "metadata": {},
   "outputs": [
    {
     "data": {
      "text/plain": [
       "{'title': 'Toy Story 3',\n",
       " 'Directed by': 'Lee Unkrich',\n",
       " 'Screenplay by': 'Michael Arndt',\n",
       " 'Story by': ['John Lasseter', 'Andrew Stanton', 'Lee Unkrich'],\n",
       " 'Produced by': 'Darla K. Anderson',\n",
       " 'Starring': ['Tom Hanks',\n",
       "  'Tim Allen',\n",
       "  'Joan Cusack',\n",
       "  'Don Rickles',\n",
       "  'Wallace Shawn',\n",
       "  'John Ratzenberger',\n",
       "  'Estelle Harris',\n",
       "  'Ned Beatty',\n",
       "  'Michael Keaton',\n",
       "  'Jodi Benson',\n",
       "  'John Morris'],\n",
       " 'Cinematography': ['Jeremy Lasky', 'Kim White'],\n",
       " 'Edited by': 'Ken Schretzmann',\n",
       " 'Music by': 'Randy Newman',\n",
       " 'Productioncompanies': ['Walt Disney Pictures', 'Pixar Animation Studios'],\n",
       " 'Distributed by': 'Walt Disney StudiosMotion Pictures',\n",
       " 'Release dates': ['June\\xa012,\\xa02010\\xa0(2010-06-12) (Taormina Film Fest)',\n",
       "  'June\\xa018,\\xa02010\\xa0(2010-06-18) (United States)'],\n",
       " 'Running time': '103 minutes[1]',\n",
       " 'Country': 'United States',\n",
       " 'Language': 'English',\n",
       " 'Budget': '$200\\xa0million[1]',\n",
       " 'Box office': '$1.067\\xa0billion[1]'}"
      ]
     },
     "execution_count": 7,
     "metadata": {},
     "output_type": "execute_result"
    }
   ],
   "source": [
    "def get_content_value(row_data):\n",
    "    if row_data.find('li'):\n",
    "        return [li.get_text() for li in row_data.find_all('li')]\n",
    "    else:\n",
    "        return row_data.get_text()\n",
    "    \n",
    "move_info = {}\n",
    "for index, row in enumerate(info_rows):\n",
    "    if index == 0:\n",
    "        move_info['title'] = row.find('th').get_text()\n",
    "    elif index == 1:\n",
    "        continue\n",
    "    else:\n",
    "        content_key = row.find('th').get_text()\n",
    "        content_value = get_content_value(row.find('td'))\n",
    "        move_info[content_key] = content_value\n",
    "\n",
    "move_info"
   ]
  }
 ],
 "metadata": {
  "kernelspec": {
   "display_name": "Python 3",
   "language": "python",
   "name": "python3"
  },
  "language_info": {
   "codemirror_mode": {
    "name": "ipython",
    "version": 3
   },
   "file_extension": ".py",
   "mimetype": "text/x-python",
   "name": "python",
   "nbconvert_exporter": "python",
   "pygments_lexer": "ipython3",
   "version": "3.11.2"
  },
  "orig_nbformat": 4
 },
 "nbformat": 4,
 "nbformat_minor": 2
}
